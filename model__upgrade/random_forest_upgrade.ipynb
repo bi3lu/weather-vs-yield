{
 "cells": [
  {
   "cell_type": "code",
   "execution_count": null,
   "id": "a4b43b7a",
   "metadata": {},
   "outputs": [],
   "source": [
    "import pandas as pd\n",
    "import numpy as np\n",
    "from sklearn.metrics import mean_absolute_error, root_mean_squared_error, r2_score\n",
    "import joblib\n",
    "import os"
   ]
  },
  {
   "cell_type": "code",
   "execution_count": 3,
   "id": "5f87d24d",
   "metadata": {},
   "outputs": [],
   "source": [
    "train_df = pd.read_csv(\"../data/processed/train.csv\")\n",
    "test_df = pd.read_csv(\"../data/processed/test.csv\")"
   ]
  },
  {
   "cell_type": "code",
   "execution_count": 4,
   "id": "e9bb13b0",
   "metadata": {},
   "outputs": [],
   "source": [
    "X_train = train_df.drop(\"Yield_tons_per_hectare\", axis=1)\n",
    "y_train = train_df[\"Yield_tons_per_hectare\"]\n",
    "\n",
    "X_test = test_df.drop(\"Yield_tons_per_hectare\", axis=1)\n",
    "y_test = test_df[\"Yield_tons_per_hectare\"]"
   ]
  },
  {
   "cell_type": "code",
   "execution_count": 5,
   "id": "0a05bf4f",
   "metadata": {},
   "outputs": [],
   "source": [
    "model = joblib.load(\"../outputs/models/random_forest_model_n_50.pkl\")\n",
    "y_pred = model.predict(X_test)"
   ]
  },
  {
   "cell_type": "code",
   "execution_count": 6,
   "id": "348cbd5f",
   "metadata": {},
   "outputs": [
    {
     "name": "stdout",
     "output_type": "stream",
     "text": [
      "MAE: 0.41\n",
      "RMSE: 0.72\n",
      "R2: 0.91\n"
     ]
    }
   ],
   "source": [
    "mae = mean_absolute_error(y_test, y_pred)\n",
    "rmse = np.sqrt(root_mean_squared_error(y_test, y_pred))\n",
    "r2 = r2_score(y_test, y_pred)\n",
    "\n",
    "print(f\"MAE: {mae:.2f}\")\n",
    "print(f\"RMSE: {rmse:.2f}\")\n",
    "print(f\"R2: {r2:.2f}\")"
   ]
  }
 ],
 "metadata": {
  "kernelspec": {
   "display_name": "Python 3",
   "language": "python",
   "name": "python3"
  },
  "language_info": {
   "codemirror_mode": {
    "name": "ipython",
    "version": 3
   },
   "file_extension": ".py",
   "mimetype": "text/x-python",
   "name": "python",
   "nbconvert_exporter": "python",
   "pygments_lexer": "ipython3",
   "version": "3.13.2"
  }
 },
 "nbformat": 4,
 "nbformat_minor": 5
}
