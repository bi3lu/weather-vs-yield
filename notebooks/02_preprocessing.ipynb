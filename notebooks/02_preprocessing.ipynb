{
 "cells": [
  {
   "cell_type": "markdown",
   "id": "64c9ce31",
   "metadata": {},
   "source": [
    "# Przygotowanie danych"
   ]
  },
  {
   "cell_type": "code",
   "execution_count": 1,
   "id": "ffbb735f",
   "metadata": {},
   "outputs": [],
   "source": [
    "import pandas as pd\n",
    "from sklearn.model_selection import train_test_split\n",
    "from sklearn.preprocessing import StandardScaler, OneHotEncoder, FunctionTransformer\n",
    "from sklearn.impute import SimpleImputer\n",
    "from sklearn.compose import ColumnTransformer\n",
    "from sklearn.pipeline import Pipeline"
   ]
  },
  {
   "cell_type": "markdown",
   "id": "0654fe45",
   "metadata": {},
   "source": [
    "## 1. Wczytanie surowych danych"
   ]
  },
  {
   "cell_type": "code",
   "execution_count": 2,
   "id": "81dab5ef",
   "metadata": {},
   "outputs": [],
   "source": [
    "file_path = '../data/raw/crop_yield.csv'\n",
    "df = pd.read_csv(file_path)"
   ]
  },
  {
   "cell_type": "markdown",
   "id": "18d312fb",
   "metadata": {},
   "source": [
    "## 2. Rozdzielenie cech oraz celu"
   ]
  },
  {
   "cell_type": "code",
   "execution_count": 3,
   "id": "8e661acb",
   "metadata": {},
   "outputs": [],
   "source": [
    "X = df.drop(\"Yield_tons_per_hectare\", axis=1)\n",
    "y = df[\"Yield_tons_per_hectare\"]"
   ]
  },
  {
   "cell_type": "markdown",
   "id": "47edcb66",
   "metadata": {},
   "source": [
    "### 2.1. Określenie kolumn:"
   ]
  },
  {
   "cell_type": "code",
   "execution_count": 4,
   "id": "c9e6f5b2",
   "metadata": {},
   "outputs": [],
   "source": [
    "numerical_features = [\"Rainfall_mm\", \"Temperature_Celsius\", \"Days_to_Harvest\"]\n",
    "categorical_features = [\"Region\", \"Soil_Type\", \"Crop\", \"Weather_Condition\"]\n",
    "boolean_features = [\"Fertilizer_Used\", \"Irrigation_Used\"]"
   ]
  },
  {
   "cell_type": "markdown",
   "id": "4a43a3bf",
   "metadata": {},
   "source": [
    "### 2.2. Określenie pipelinu numerycznego:"
   ]
  },
  {
   "cell_type": "code",
   "execution_count": 5,
   "id": "fa990642",
   "metadata": {},
   "outputs": [],
   "source": [
    "numerical_transformer = Pipeline(steps=[\n",
    "    (\"imputer\", SimpleImputer(strategy=\"mean\")),\n",
    "    (\"scaler\", StandardScaler())\n",
    "])"
   ]
  },
  {
   "cell_type": "markdown",
   "id": "4dfa93aa",
   "metadata": {},
   "source": [
    "### 2.3. Określenie pipelinu kategorycznego:"
   ]
  },
  {
   "cell_type": "code",
   "execution_count": 6,
   "id": "a52fb28b",
   "metadata": {},
   "outputs": [],
   "source": [
    "categorical_transformer = Pipeline(steps=[\n",
    "    (\"imputer\", SimpleImputer(strategy=\"most_frequent\")),\n",
    "    (\"onehot\", OneHotEncoder(handle_unknown=\"ignore\"))\n",
    "])"
   ]
  },
  {
   "cell_type": "markdown",
   "id": "a9bb28d0",
   "metadata": {},
   "source": [
    "### 2.4. Określenie pipelinu boolowskiego:"
   ]
  },
  {
   "cell_type": "code",
   "execution_count": 7,
   "id": "aba9f8d8",
   "metadata": {},
   "outputs": [],
   "source": [
    "boolean_transformer = Pipeline(steps=[\n",
    "    (\"to_int\", FunctionTransformer(lambda x: x.astype(int))),\n",
    "    (\"imputer\", SimpleImputer(strategy=\"most_frequent\"))\n",
    "])"
   ]
  },
  {
   "cell_type": "markdown",
   "id": "bd1dd262",
   "metadata": {},
   "source": [
    "### 2.5. Scalenie wszystkiego w jeden preprocesor:"
   ]
  },
  {
   "cell_type": "code",
   "execution_count": 8,
   "id": "137cb614",
   "metadata": {},
   "outputs": [],
   "source": [
    "preprocessor = ColumnTransformer(transformers=[\n",
    "    (\"num\", numerical_transformer, numerical_features),\n",
    "    (\"cat\", categorical_transformer, categorical_features),\n",
    "    (\"bool\", boolean_transformer, boolean_features)\n",
    "])"
   ]
  },
  {
   "cell_type": "markdown",
   "id": "7b3ca7cf",
   "metadata": {},
   "source": [
    "## 3. Podział danych na zbiór treningowy oraz zbiór testowy"
   ]
  },
  {
   "cell_type": "code",
   "execution_count": 9,
   "id": "01f1b346",
   "metadata": {},
   "outputs": [],
   "source": [
    "X_train, X_test, y_train, y_test = train_test_split(X, y, test_size=0.2, random_state=42)"
   ]
  },
  {
   "cell_type": "markdown",
   "id": "9ec9878e",
   "metadata": {},
   "source": [
    "### 3.1. Zastosowanie preprocessingu:"
   ]
  },
  {
   "cell_type": "code",
   "execution_count": 10,
   "id": "28ed1120",
   "metadata": {},
   "outputs": [],
   "source": [
    "X_train_processed = preprocessor.fit_transform(X_train)\n",
    "X_test_processed = preprocessor.transform(X_test)"
   ]
  },
  {
   "cell_type": "markdown",
   "id": "f00b0c67",
   "metadata": {},
   "source": [
    "#### Zbiór treningowy prezentuje się następująco:"
   ]
  },
  {
   "cell_type": "code",
   "execution_count": 11,
   "id": "3e3efec0",
   "metadata": {},
   "outputs": [
    {
     "name": "stdout",
     "output_type": "stream",
     "text": [
      "Zbiór treningowy: (800000, 24)\n"
     ]
    }
   ],
   "source": [
    "print(\"Zbiór treningowy:\", X_train_processed.shape)"
   ]
  },
  {
   "cell_type": "markdown",
   "id": "4c744ea3",
   "metadata": {},
   "source": [
    "#### Natomiast ogólny kształt zbioru testowego wygląda tak:"
   ]
  },
  {
   "cell_type": "code",
   "execution_count": 12,
   "id": "96a81ecf",
   "metadata": {},
   "outputs": [
    {
     "name": "stdout",
     "output_type": "stream",
     "text": [
      "Zbiór testowy: (200000, 24)\n"
     ]
    }
   ],
   "source": [
    "print(\"Zbiór testowy:\", X_test_processed.shape)"
   ]
  },
  {
   "cell_type": "markdown",
   "id": "83b3d434",
   "metadata": {},
   "source": [
    "### 3.2. Zapisanie zbioru treningowego oraz zbioru testowego do plików CSV:"
   ]
  },
  {
   "cell_type": "code",
   "execution_count": 14,
   "id": "c498b091",
   "metadata": {},
   "outputs": [],
   "source": [
    "train_df = pd.DataFrame(X_train_processed.toarray() if hasattr(X_train_processed, \"toarray\") else X_train_processed)\n",
    "train_df[\"Yield_tons_per_hectare\"] = y_train.values\n",
    "\n",
    "test_df = pd.DataFrame(X_test_processed.toarray() if hasattr(X_test_processed, \"toarray\") else X_test_processed)\n",
    "test_df[\"Yield_tons_per_hectare\"] = y_test.values\n",
    "\n",
    "train_df.to_csv(\"../data/processed/train.csv\", index=False)\n",
    "test_df.to_csv(\"../data/processed/test.csv\", index=False)"
   ]
  }
 ],
 "metadata": {
  "kernelspec": {
   "display_name": "Python 3",
   "language": "python",
   "name": "python3"
  },
  "language_info": {
   "codemirror_mode": {
    "name": "ipython",
    "version": 3
   },
   "file_extension": ".py",
   "mimetype": "text/x-python",
   "name": "python",
   "nbconvert_exporter": "python",
   "pygments_lexer": "ipython3",
   "version": "3.13.2"
  }
 },
 "nbformat": 4,
 "nbformat_minor": 5
}
